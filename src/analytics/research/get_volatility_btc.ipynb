{
 "cells": [
  {
   "cell_type": "markdown",
   "id": "681bbf7d",
   "metadata": {},
   "source": [
    "# Find the volity of grid to set grid layer "
   ]
  }
 ],
 "metadata": {
  "language_info": {
   "name": "python"
  }
 },
 "nbformat": 4,
 "nbformat_minor": 5
}
